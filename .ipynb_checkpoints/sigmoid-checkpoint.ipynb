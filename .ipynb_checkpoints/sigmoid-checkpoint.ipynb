{
 "cells": [
  {
   "cell_type": "code",
   "execution_count": null,
   "metadata": {
    "collapsed": false
   },
   "outputs": [],
   "source": [
    "import matplotlib.pyplot as plt\n",
    "import numpy as np\n",
    "from matplotlib.colors import ListedColormap\n",
    "import math\n",
    "\n",
    "# ---Sigmoid------------\n",
    "def sigmoid(x):\n",
    "    try:\n",
    "        res = 1 / (1 + math.exp(-x))\n",
    "    except OverflowError:\n",
    "        res = 0.0\n",
    "    return res\n",
    "\n",
    "# -- NORMALIZED POINTS--\n",
    "y = np.array([[1,1,3],[1,1,2],[1,3,2],[1,5,2],[1,3,1],[1,2,8],[1,4,7],[1,6,7],[1,9,6],[1,8,7]])\n",
    "b = np.array([1,1,1,1,1,0,0,0,0,0])\n",
    "nsamp = y.shape[0]\n",
    "\n",
    "# -- Neuron: mean square error/probability function --\n",
    "a = np.array([-1,0,1])  #initial weights\n",
    "a1 = np.array([50,50,50])\n",
    "eta = 0.01\n",
    "c = 0\n",
    "while(1):\n",
    "    c = c+1\n",
    "    a1 = a\n",
    "    for i in range(nsamp):\n",
    "        score = sigmoid(np.dot(a,y[i]))\n",
    "        a = a + eta*(b[i]-score)*score*(1-score)*y[i]\n",
    "    if np.sum(np.square((np.absolute(a1-a))))<= 0.0000000001:\n",
    "        break\n",
    "print c\n",
    "xgrid, ygrid = np.meshgrid(np.arange(-10,11, 0.01), np.arange(-10,11, 0.01))\n",
    "xy_grid = np.c_[xgrid.ravel(), ygrid.ravel()]\n",
    "cls = []\n",
    "\n",
    "for i in xy_grid:\n",
    "    if sigmoid(np.dot(i,[a[1],a[2]])+a[0]) >= 0.5:\n",
    "        cls.append(1)\n",
    "    else:\n",
    "        cls.append(0)\n",
    "\n",
    "cls = np.asarray(cls)\n",
    "cls = cls.reshape(xgrid.shape)\n",
    "print cls\n",
    "\n",
    "# -- DISPLAYING THE PLOTS --\n",
    "colors  =  ListedColormap(['#FF7C46', '#48C7FF'])\n",
    "plt.pcolormesh(xgrid, ygrid, cls, cmap=colors)\n",
    "plt.scatter([1,1,3,5,3],[3,2,2,2,1],marker='o',label='Class w1')\n",
    "plt.scatter([2,4,6,9,8],[8,7,7,6,7],marker='x',label='Class w2')\n",
    "plt.axis('tight')\n",
    "plt.xlabel('X-axis')\n",
    "plt.ylabel('Y-axis')\n",
    "plt.legend()\n",
    "plt.show()"
   ]
  },
  {
   "cell_type": "code",
   "execution_count": null,
   "metadata": {
    "collapsed": true
   },
   "outputs": [],
   "source": []
  }
 ],
 "metadata": {
  "kernelspec": {
   "display_name": "Python 2",
   "language": "python",
   "name": "python2"
  },
  "language_info": {
   "codemirror_mode": {
    "name": "ipython",
    "version": 2
   },
   "file_extension": ".py",
   "mimetype": "text/x-python",
   "name": "python",
   "nbconvert_exporter": "python",
   "pygments_lexer": "ipython2",
   "version": "2.7.6"
  }
 },
 "nbformat": 4,
 "nbformat_minor": 0
}
